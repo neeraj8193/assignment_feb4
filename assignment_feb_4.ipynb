{
 "cells": [
  {
   "cell_type": "code",
   "execution_count": 48,
   "id": "9f2cb11e-7bd3-41b1-a649-ef3bdda2d8b8",
   "metadata": {},
   "outputs": [],
   "source": [
    "#q1"
   ]
  },
  {
   "cell_type": "code",
   "execution_count": 49,
   "id": "e1eb23c6-8d91-4142-b37a-4df49153334a",
   "metadata": {},
   "outputs": [],
   "source": [
    "a=[('Sachin Tendulkar', 34357), ('Ricky Ponting', 27483), ('Jack Kallis', 25534), ('Virat Kohli', 24936)]"
   ]
  },
  {
   "cell_type": "code",
   "execution_count": 50,
   "id": "4bf8c67b-7ca5-407f-84df-248c4dda0666",
   "metadata": {},
   "outputs": [],
   "source": [
    "l=[]"
   ]
  },
  {
   "cell_type": "code",
   "execution_count": 51,
   "id": "4ba15ed1-944c-472a-9587-7474f0b22ae4",
   "metadata": {},
   "outputs": [],
   "source": [
    "def test(a):\n",
    "    for i in a:\n",
    "        for j in i:\n",
    "            if type(j)==int:\n",
    "                l.append(j)\n",
    "    return l\n",
    "        "
   ]
  },
  {
   "cell_type": "code",
   "execution_count": 52,
   "id": "3d6436da-ee92-4c2b-a108-71d2630aa378",
   "metadata": {},
   "outputs": [
    {
     "data": {
      "text/plain": [
       "[34357, 27483, 25534, 24936]"
      ]
     },
     "execution_count": 52,
     "metadata": {},
     "output_type": "execute_result"
    }
   ],
   "source": [
    "test(a)"
   ]
  },
  {
   "cell_type": "code",
   "execution_count": 53,
   "id": "257372ba-cf0a-4c38-8781-0bd7cb793c77",
   "metadata": {},
   "outputs": [],
   "source": [
    "sort=lambda x,y :x>y ,l"
   ]
  },
  {
   "cell_type": "code",
   "execution_count": 54,
   "id": "fe745f24-e142-4d93-81ed-4b13370f9ac2",
   "metadata": {},
   "outputs": [
    {
     "data": {
      "text/plain": [
       "[<function __main__.<lambda>(x, y)>, [34357, 27483, 25534, 24936]]"
      ]
     },
     "execution_count": 54,
     "metadata": {},
     "output_type": "execute_result"
    }
   ],
   "source": [
    "list(sort)"
   ]
  },
  {
   "cell_type": "code",
   "execution_count": 55,
   "id": "ce849b5c-0bdd-49a7-9f5d-6f73760f6138",
   "metadata": {},
   "outputs": [],
   "source": [
    "\n",
    "#q2"
   ]
  },
  {
   "cell_type": "code",
   "execution_count": 56,
   "id": "5db1f5b1-79e6-4d02-a8c0-217266eab2d3",
   "metadata": {},
   "outputs": [],
   "source": [
    "l1=[1,2,3,4,5,6,7,8,9,10]\n"
   ]
  },
  {
   "cell_type": "code",
   "execution_count": 57,
   "id": "cc93cfcf-be6b-4ad7-86fc-4f043137fc2a",
   "metadata": {},
   "outputs": [],
   "source": [
    "a=list(map(lambda x:x**2,l1))"
   ]
  },
  {
   "cell_type": "code",
   "execution_count": 58,
   "id": "28e13061-0d6b-4e83-8740-ae0bf099fa45",
   "metadata": {},
   "outputs": [
    {
     "data": {
      "text/plain": [
       "[1, 4, 9, 16, 25, 36, 49, 64, 81, 100]"
      ]
     },
     "execution_count": 58,
     "metadata": {},
     "output_type": "execute_result"
    }
   ],
   "source": [
    "a\n"
   ]
  },
  {
   "cell_type": "code",
   "execution_count": 59,
   "id": "63fd23ca-6696-4119-884f-61d2485ec517",
   "metadata": {},
   "outputs": [],
   "source": [
    "#q3\n",
    "l2=[1,2,3,4,5,6,7,8,9,10]"
   ]
  },
  {
   "cell_type": "code",
   "execution_count": 60,
   "id": "c99eecf4-1931-4f90-9273-e0e791a92fb1",
   "metadata": {},
   "outputs": [],
   "source": [
    "\n",
    "a=list(map(lambda x : str(x),l2))"
   ]
  },
  {
   "cell_type": "code",
   "execution_count": 61,
   "id": "69b92356-dcc8-4fc1-a4e0-7f9c48a24b86",
   "metadata": {},
   "outputs": [
    {
     "data": {
      "text/plain": [
       "['1', '2', '3', '4', '5', '6', '7', '8', '9', '10']"
      ]
     },
     "execution_count": 61,
     "metadata": {},
     "output_type": "execute_result"
    }
   ],
   "source": [
    "a"
   ]
  },
  {
   "cell_type": "code",
   "execution_count": 62,
   "id": "19447802-1cd5-4cbf-a2f2-e641ced7eb0a",
   "metadata": {},
   "outputs": [],
   "source": [
    "#q4"
   ]
  },
  {
   "cell_type": "code",
   "execution_count": 63,
   "id": "7094a380-1a1a-4460-99fc-45e0a230d0b5",
   "metadata": {},
   "outputs": [],
   "source": [
    "from functools import reduce"
   ]
  },
  {
   "cell_type": "code",
   "execution_count": 64,
   "id": "7a936720-102a-4f96-8b82-005f5aca0ed9",
   "metadata": {},
   "outputs": [
    {
     "data": {
      "text/plain": [
       "[1,\n",
       " 2,\n",
       " 3,\n",
       " 4,\n",
       " 5,\n",
       " 6,\n",
       " 7,\n",
       " 8,\n",
       " 9,\n",
       " 10,\n",
       " 11,\n",
       " 12,\n",
       " 13,\n",
       " 14,\n",
       " 15,\n",
       " 16,\n",
       " 17,\n",
       " 18,\n",
       " 19,\n",
       " 20,\n",
       " 21,\n",
       " 22,\n",
       " 23,\n",
       " 24,\n",
       " 25]"
      ]
     },
     "execution_count": 64,
     "metadata": {},
     "output_type": "execute_result"
    }
   ],
   "source": [
    "l3=[]\n",
    "for i in range(1,26):\n",
    "    l3.append(i)\n",
    "l3"
   ]
  },
  {
   "cell_type": "code",
   "execution_count": 65,
   "id": "4b866fe0-b607-42c9-b7e7-63f05ebbd42d",
   "metadata": {},
   "outputs": [
    {
     "data": {
      "text/plain": [
       "[1,\n",
       " 2,\n",
       " 3,\n",
       " 4,\n",
       " 5,\n",
       " 6,\n",
       " 7,\n",
       " 8,\n",
       " 9,\n",
       " 10,\n",
       " 11,\n",
       " 12,\n",
       " 13,\n",
       " 14,\n",
       " 15,\n",
       " 16,\n",
       " 17,\n",
       " 18,\n",
       " 19,\n",
       " 20,\n",
       " 21,\n",
       " 22,\n",
       " 23,\n",
       " 24,\n",
       " 25]"
      ]
     },
     "execution_count": 65,
     "metadata": {},
     "output_type": "execute_result"
    }
   ],
   "source": [
    "l3"
   ]
  },
  {
   "cell_type": "code",
   "execution_count": 69,
   "id": "0a8493ff-b414-484a-9b81-4606b35ac260",
   "metadata": {},
   "outputs": [],
   "source": [
    "#q4\n",
    "def product(x,y):\n",
    "    return x*y\n",
    "    "
   ]
  },
  {
   "cell_type": "code",
   "execution_count": 70,
   "id": "debc6d59-673b-4527-b6fb-9f03c202b204",
   "metadata": {},
   "outputs": [],
   "source": [
    "a=reduce(product,l3)"
   ]
  },
  {
   "cell_type": "code",
   "execution_count": 71,
   "id": "6d73257c-9689-418e-8e62-7cc816e78b9e",
   "metadata": {},
   "outputs": [
    {
     "data": {
      "text/plain": [
       "15511210043330985984000000"
      ]
     },
     "execution_count": 71,
     "metadata": {},
     "output_type": "execute_result"
    }
   ],
   "source": [
    "a"
   ]
  },
  {
   "cell_type": "code",
   "execution_count": 72,
   "id": "b515a940-52c9-4c0f-abc3-bdd934820693",
   "metadata": {},
   "outputs": [],
   "source": [
    "#q5\n",
    "l4=[2,3,6,9,27,60,90,120,55,46]"
   ]
  },
  {
   "cell_type": "code",
   "execution_count": 73,
   "id": "2ebc8e60-a1c9-4a6b-8412-245504e45769",
   "metadata": {},
   "outputs": [
    {
     "data": {
      "text/plain": [
       "[2, 3, 6, 9, 27, 60, 90, 120, 55, 46]"
      ]
     },
     "execution_count": 73,
     "metadata": {},
     "output_type": "execute_result"
    }
   ],
   "source": [
    "l4"
   ]
  },
  {
   "cell_type": "code",
   "execution_count": 74,
   "id": "9788770a-897e-4163-9d74-8d0cfaa884db",
   "metadata": {},
   "outputs": [],
   "source": [
    "p=filter(lambda x:x if(x%2==0 and x%3==0) else None,l4)"
   ]
  },
  {
   "cell_type": "code",
   "execution_count": 75,
   "id": "51edb29e-cb3b-4ac6-b89d-e7b2f06d7fd7",
   "metadata": {},
   "outputs": [
    {
     "data": {
      "text/plain": [
       "[6, 60, 90, 120]"
      ]
     },
     "execution_count": 75,
     "metadata": {},
     "output_type": "execute_result"
    }
   ],
   "source": [
    "list(p)"
   ]
  },
  {
   "cell_type": "code",
   "execution_count": 1,
   "id": "7fd2e696-bbec-4e98-8a07-361dc25b4ef8",
   "metadata": {},
   "outputs": [],
   "source": [
    "l5=['python','php','aba','radar','level']"
   ]
  },
  {
   "cell_type": "code",
   "execution_count": null,
   "id": "988d44ce-8183-441e-af8d-51f1e066f9d5",
   "metadata": {},
   "outputs": [
    {
     "data": {
      "text/plain": [
       "'nohtyp'"
      ]
     },
     "execution_count": 13,
     "metadata": {},
     "output_type": "execute_result"
    }
   ],
   "source": [
    "s[::-1]"
   ]
  },
  {
   "cell_type": "code",
   "execution_count": 29,
   "id": "57df7796-13c2-4317-a972-611c4b4d62b7",
   "metadata": {},
   "outputs": [
    {
     "data": {
      "text/plain": [
       "['php', 'aba', 'radar', 'level']"
      ]
     },
     "execution_count": 32,
     "metadata": {},
     "output_type": "execute_result"
    }
   ],
   "source": [
    "list(f(lambda x:x if x==x[::-1] else None,l5))"
   ]
  },
  {
   "cell_type": "code",
   "execution_count": null,
   "id": "0b649ada-3eb9-4f7b-94fd-d41f49c52f27",
   "metadata": {},
   "outputs": [],
   "source": []
  },
  {
   "cell_type": "markdown",
   "id": "6650c7cb-676e-4d20-903c-967f6ee5b3ad",
   "metadata": {},
   "source": []
  }
 ],
 "metadata": {
  "kernelspec": {
   "display_name": "Python 3 (ipykernel)",
   "language": "python",
   "name": "python3"
  },
  "language_info": {
   "codemirror_mode": {
    "name": "ipython",
    "version": 3
   },
   "file_extension": ".py",
   "mimetype": "text/x-python",
   "name": "python",
   "nbconvert_exporter": "python",
   "pygments_lexer": "ipython3",
   "version": "3.10.8"
  }
 },
 "nbformat": 4,
 "nbformat_minor": 5
}
